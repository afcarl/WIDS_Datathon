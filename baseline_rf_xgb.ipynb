{
 "cells": [
  {
   "cell_type": "code",
   "execution_count": 1,
   "metadata": {},
   "outputs": [],
   "source": [
    "import pandas as pd\n",
    "import numpy as np\n",
    "from sklearn.ensemble import RandomForestClassifier\n",
    "from sklearn.model_selection import train_test_split, GridSearchCV, RandomizedSearchCV\n",
    "from sklearn import metrics"
   ]
  },
  {
   "cell_type": "code",
   "execution_count": 2,
   "metadata": {},
   "outputs": [],
   "source": [
    "train = pd.read_csv('../train.csv', low_memory=False)\n",
    "test = pd.read_csv('../test.csv', low_memory=False)"
   ]
  },
  {
   "cell_type": "code",
   "execution_count": 3,
   "metadata": {},
   "outputs": [
    {
     "data": {
      "text/plain": [
       "((18255, 1235),\n",
       "    train_id  AA3  AA4  AA5  AA6     AA7  AA14  AA15   DG1  is_female  \\\n",
       " 0         0    3   32  3.0  NaN  323011  3854   481  1975          1   \n",
       " 1         1    2   26  NaN  8.0  268131  2441   344  1981          1   \n",
       " 2         2    1   16  NaN  7.0  167581   754   143  1995          1   \n",
       " 3         3    4   44  5.0  NaN  445071  5705   604  1980          1   \n",
       " 4         4    4   43  NaN  6.0  436161  5645   592  1958          1   \n",
       " \n",
       "       ...       GN1  GN1_OTHERS GN2  GN2_OTHERS  GN3  GN3_OTHERS  GN4  \\\n",
       " 0     ...      99.0         NaN  99         NaN   99         NaN   99   \n",
       " 1     ...       NaN         NaN   1         NaN    2         NaN    2   \n",
       " 2     ...       1.0         NaN   2         NaN    2         NaN    2   \n",
       " 3     ...       NaN         NaN   2         NaN    2         NaN   99   \n",
       " 4     ...       NaN         NaN   1         NaN    1         NaN    1   \n",
       " \n",
       "    GN4_OTHERS  GN5  GN5_OTHERS  \n",
       " 0         NaN   99         NaN  \n",
       " 1         NaN    2         NaN  \n",
       " 2         NaN    2         NaN  \n",
       " 3         NaN   99         NaN  \n",
       " 4         NaN    1         NaN  \n",
       " \n",
       " [5 rows x 1235 columns])"
      ]
     },
     "execution_count": 3,
     "metadata": {},
     "output_type": "execute_result"
    }
   ],
   "source": [
    "train.shape, train.head()"
   ]
  },
  {
   "cell_type": "code",
   "execution_count": 4,
   "metadata": {},
   "outputs": [
    {
     "data": {
      "text/plain": [
       "((27285, 1234),\n",
       "    test_id  AA3  AA4  AA5  AA6     AA7  AA14  AA15   DG1  DG3     ...      \\\n",
       " 0        0    4   41  NaN  7.0  417211  4479   535  1979    8     ...       \n",
       " 1        1    3   32  2.0  NaN  322011  3803   476  1993    1     ...       \n",
       " 2        2    3   36  5.0  NaN  365011  5610   585  1980    3     ...       \n",
       " 3        3    2   24  NaN  7.0  247061  2550   350  1991    3     ...       \n",
       " 4        4    3   35  NaN  8.0  358071  3233   400  1985    3     ...       \n",
       " \n",
       "    GN1 GN1_OTHERS  GN2 GN2_OTHERS  GN3  GN3_OTHERS  GN4  GN4_OTHERS  GN5  \\\n",
       " 0  2.0        NaN    1        NaN    3         NaN    3         NaN    3   \n",
       " 1  1.0        NaN    1        NaN    1         NaN    1         NaN    1   \n",
       " 2  2.0        NaN    2        NaN    2         NaN    2         NaN    2   \n",
       " 3  2.0        NaN    2        NaN    2         NaN    2         NaN    2   \n",
       " 4  1.0        NaN    1        NaN    1         NaN    1         NaN    1   \n",
       " \n",
       "    GN5_OTHERS  \n",
       " 0         NaN  \n",
       " 1         NaN  \n",
       " 2         NaN  \n",
       " 3         NaN  \n",
       " 4         NaN  \n",
       " \n",
       " [5 rows x 1234 columns])"
      ]
     },
     "execution_count": 4,
     "metadata": {},
     "output_type": "execute_result"
    }
   ],
   "source": [
    "test.shape, test.head()"
   ]
  },
  {
   "cell_type": "code",
   "execution_count": 5,
   "metadata": {},
   "outputs": [],
   "source": [
    "cols = train.select_dtypes('object').columns\n",
    "new_train = train.drop(cols, axis = 1)\n",
    "new_test = test.drop(cols, axis = 1)"
   ]
  },
  {
   "cell_type": "code",
   "execution_count": 6,
   "metadata": {},
   "outputs": [],
   "source": [
    "cols = new_test.select_dtypes('object').columns\n",
    "new_test = new_test.drop(cols, axis = 1)\n",
    "new_train = new_train.drop(cols, axis = 1)"
   ]
  },
  {
   "cell_type": "code",
   "execution_count": 7,
   "metadata": {},
   "outputs": [],
   "source": [
    "y = new_train['is_female']\n",
    "X = new_train.drop(['is_female'], axis = 1)"
   ]
  },
  {
   "cell_type": "code",
   "execution_count": 8,
   "metadata": {},
   "outputs": [],
   "source": [
    "X.drop(['train_id'], axis = 1, inplace = True)\n",
    "new_test.drop(['test_id'], axis = 1, inplace = True)"
   ]
  },
  {
   "cell_type": "code",
   "execution_count": 9,
   "metadata": {},
   "outputs": [
    {
     "data": {
      "text/plain": [
       "(18255, 1122)"
      ]
     },
     "execution_count": 9,
     "metadata": {},
     "output_type": "execute_result"
    }
   ],
   "source": [
    "X.shape"
   ]
  },
  {
   "cell_type": "code",
   "execution_count": 10,
   "metadata": {},
   "outputs": [],
   "source": [
    "X['rowsum_not_na'] = X.apply(lambda x: x.count(), axis=1)\n",
    "new_test['rowsum_not_na'] = new_test.apply(lambda x: x.count(), axis=1)"
   ]
  },
  {
   "cell_type": "code",
   "execution_count": 11,
   "metadata": {},
   "outputs": [],
   "source": [
    "X.fillna(0, inplace=True)\n",
    "X[X == 'Inf'] = 0"
   ]
  },
  {
   "cell_type": "code",
   "execution_count": 12,
   "metadata": {},
   "outputs": [],
   "source": [
    "new_test.fillna(0, inplace=True)\n",
    "new_test[new_test == 'Inf'] = 0"
   ]
  },
  {
   "cell_type": "code",
   "execution_count": 13,
   "metadata": {},
   "outputs": [],
   "source": [
    "X_train, X_val, y_train, y_val = train_test_split(X, y, test_size=0.20, random_state=10)"
   ]
  },
  {
   "cell_type": "code",
   "execution_count": 14,
   "metadata": {},
   "outputs": [
    {
     "data": {
      "text/plain": [
       "((14604, 1123),\n",
       "        AA3  AA4  AA5  AA6     AA7   AA14  AA15   DG1  DG3  DG3A  \\\n",
       " 17130    3   32  0.0  6.0  326021   3854   481  1956    3     4   \n",
       " 8500     4   44  0.0  6.0  446171   5720   605  1976    3     4   \n",
       " 2979     4   42  1.0  0.0  421011  99999   572  1996    3     4   \n",
       " 3084     2   23  5.0  0.0  235021   1461   234  1998    1     2   \n",
       " 13128    1   16  0.0  7.0  167041    850   164  1978    3     4   \n",
       " \n",
       "            ...        LN2_1  LN2_2  LN2_3  LN2_4  GN1  GN2  GN3  GN4  GN5  \\\n",
       " 17130      ...            1      1      4      4  1.0    2    1    1    1   \n",
       " 8500       ...            5      5      4      4  3.0    3    3    3    3   \n",
       " 2979       ...            4      4      4      4  0.0    1    2    2    2   \n",
       " 3084       ...            3      3      4      4  4.0    4    4    4    4   \n",
       " 13128      ...            1      1      4      4  2.0    2    2    2    2   \n",
       " \n",
       "        rowsum_not_na  \n",
       " 17130            418  \n",
       " 8500             416  \n",
       " 2979             313  \n",
       " 3084             411  \n",
       " 13128            359  \n",
       " \n",
       " [5 rows x 1123 columns])"
      ]
     },
     "execution_count": 14,
     "metadata": {},
     "output_type": "execute_result"
    }
   ],
   "source": [
    "X_train.shape, X_train.head()"
   ]
  },
  {
   "cell_type": "code",
   "execution_count": null,
   "metadata": {},
   "outputs": [],
   "source": [
    "rf = RandomForestClassifier()"
   ]
  },
  {
   "cell_type": "code",
   "execution_count": null,
   "metadata": {},
   "outputs": [],
   "source": [
    "grid = {'min_samples_leaf' : [3,5, 10], 'max_features' : ['auto', 'log2', 'sqrt'], 'n_estimators':[100]\n",
    "       }\n",
    "clf = GridSearchCV(rf, grid, cv=5)\n",
    "clf.fit(X_train, y_train)\n",
    "clf.best_estimator_"
   ]
  },
  {
   "cell_type": "code",
   "execution_count": null,
   "metadata": {},
   "outputs": [],
   "source": [
    "pred_val = clf.predict_proba(X_val)[:,1]\n",
    "pred_val"
   ]
  },
  {
   "cell_type": "code",
   "execution_count": null,
   "metadata": {},
   "outputs": [],
   "source": [
    "fpr, tpr, thresholds = metrics.roc_curve(y_val, pred_val, pos_label=1)\n",
    "metrics.auc(fpr, tpr)"
   ]
  },
  {
   "cell_type": "code",
   "execution_count": null,
   "metadata": {},
   "outputs": [],
   "source": [
    "new_test.head()"
   ]
  },
  {
   "cell_type": "code",
   "execution_count": null,
   "metadata": {},
   "outputs": [],
   "source": [
    "new_test.dtypes"
   ]
  },
  {
   "cell_type": "code",
   "execution_count": null,
   "metadata": {},
   "outputs": [],
   "source": [
    "pred_test = clf.predict_proba(new_test)[:,1]"
   ]
  },
  {
   "cell_type": "code",
   "execution_count": null,
   "metadata": {},
   "outputs": [],
   "source": [
    "sub = pd.read_csv('sample_submission.csv')\n",
    "sub.head()"
   ]
  },
  {
   "cell_type": "code",
   "execution_count": null,
   "metadata": {},
   "outputs": [],
   "source": [
    "sub.is_female = pred_test"
   ]
  },
  {
   "cell_type": "code",
   "execution_count": null,
   "metadata": {},
   "outputs": [],
   "source": [
    "sub.to_csv('sub1.csv', index = None)"
   ]
  },
  {
   "cell_type": "code",
   "execution_count": 15,
   "metadata": {},
   "outputs": [
    {
     "name": "stderr",
     "output_type": "stream",
     "text": [
      "/Users/neerjadoshi/anaconda2/envs/fastai/lib/python3.6/site-packages/sklearn/cross_validation.py:41: DeprecationWarning: This module was deprecated in version 0.18 in favor of the model_selection module into which all the refactored classes and functions are moved. Also note that the interface of the new CV iterators are different from that of this module. This module will be removed in 0.20.\n",
      "  \"This module will be removed in 0.20.\", DeprecationWarning)\n"
     ]
    }
   ],
   "source": [
    "import xgboost as xgb"
   ]
  },
  {
   "cell_type": "code",
   "execution_count": 16,
   "metadata": {},
   "outputs": [
    {
     "data": {
      "text/plain": [
       "XGBClassifier(base_score=0.5, colsample_bylevel=1, colsample_bytree=1,\n",
       "       gamma=0, learning_rate=0.1, max_delta_step=0, max_depth=10,\n",
       "       min_child_weight=5, missing=None, n_estimators=100, nthread=-1,\n",
       "       objective='binary:logistic', reg_alpha=0, reg_lambda=1,\n",
       "       scale_pos_weight=1, seed=0, silent=True, subsample=1)"
      ]
     },
     "execution_count": 16,
     "metadata": {},
     "output_type": "execute_result"
    }
   ],
   "source": [
    "model = xgb.XGBClassifier()\n",
    "param_dist = {\"max_depth\": [3, 5, 10, 15],\n",
    "              \"min_child_weight\" : [3,5,10,20],\n",
    "             \"n_estimators\" : [100]}\n",
    "\n",
    "# run randomized search\n",
    "n_iter_search = 3\n",
    "random_search = RandomizedSearchCV(model, param_distributions=param_dist, cv = 5, n_iter=n_iter_search)\n",
    "random_search.fit(X_train, y_train)\n",
    "random_search.best_estimator_"
   ]
  },
  {
   "cell_type": "code",
   "execution_count": 17,
   "metadata": {},
   "outputs": [
    {
     "data": {
      "text/plain": [
       "array([ 0.99779838,  0.00731598,  0.01547817, ...,  0.00453813,\n",
       "        0.36851692,  0.99749714], dtype=float32)"
      ]
     },
     "execution_count": 17,
     "metadata": {},
     "output_type": "execute_result"
    }
   ],
   "source": [
    "pred_val = random_search.predict_proba(X_val)[:,1]\n",
    "pred_val"
   ]
  },
  {
   "cell_type": "code",
   "execution_count": 18,
   "metadata": {},
   "outputs": [
    {
     "data": {
      "text/plain": [
       "0.96835363069097657"
      ]
     },
     "execution_count": 18,
     "metadata": {},
     "output_type": "execute_result"
    }
   ],
   "source": [
    "fpr, tpr, thresholds = metrics.roc_curve(y_val, pred_val, pos_label=1)\n",
    "metrics.auc(fpr, tpr)"
   ]
  },
  {
   "cell_type": "code",
   "execution_count": 19,
   "metadata": {},
   "outputs": [],
   "source": [
    "pred_test = random_search.predict_proba(new_test)[:,1]"
   ]
  },
  {
   "cell_type": "code",
   "execution_count": 21,
   "metadata": {},
   "outputs": [
    {
     "data": {
      "text/html": [
       "<div>\n",
       "<style scoped>\n",
       "    .dataframe tbody tr th:only-of-type {\n",
       "        vertical-align: middle;\n",
       "    }\n",
       "\n",
       "    .dataframe tbody tr th {\n",
       "        vertical-align: top;\n",
       "    }\n",
       "\n",
       "    .dataframe thead th {\n",
       "        text-align: right;\n",
       "    }\n",
       "</style>\n",
       "<table border=\"1\" class=\"dataframe\">\n",
       "  <thead>\n",
       "    <tr style=\"text-align: right;\">\n",
       "      <th></th>\n",
       "      <th>test_id</th>\n",
       "      <th>is_female</th>\n",
       "    </tr>\n",
       "  </thead>\n",
       "  <tbody>\n",
       "    <tr>\n",
       "      <th>0</th>\n",
       "      <td>0</td>\n",
       "      <td>1</td>\n",
       "    </tr>\n",
       "    <tr>\n",
       "      <th>1</th>\n",
       "      <td>1</td>\n",
       "      <td>1</td>\n",
       "    </tr>\n",
       "    <tr>\n",
       "      <th>2</th>\n",
       "      <td>2</td>\n",
       "      <td>1</td>\n",
       "    </tr>\n",
       "    <tr>\n",
       "      <th>3</th>\n",
       "      <td>3</td>\n",
       "      <td>1</td>\n",
       "    </tr>\n",
       "    <tr>\n",
       "      <th>4</th>\n",
       "      <td>4</td>\n",
       "      <td>1</td>\n",
       "    </tr>\n",
       "  </tbody>\n",
       "</table>\n",
       "</div>"
      ],
      "text/plain": [
       "   test_id  is_female\n",
       "0        0          1\n",
       "1        1          1\n",
       "2        2          1\n",
       "3        3          1\n",
       "4        4          1"
      ]
     },
     "execution_count": 21,
     "metadata": {},
     "output_type": "execute_result"
    }
   ],
   "source": [
    "sub = pd.read_csv('../sample_submission.csv')\n",
    "sub.head()"
   ]
  },
  {
   "cell_type": "code",
   "execution_count": 22,
   "metadata": {},
   "outputs": [],
   "source": [
    "sub.is_female = pred_test"
   ]
  },
  {
   "cell_type": "code",
   "execution_count": 23,
   "metadata": {},
   "outputs": [],
   "source": [
    "sub.to_csv('sub_xgb_baseline_tmp.csv', index = None)"
   ]
  },
  {
   "cell_type": "code",
   "execution_count": null,
   "metadata": {},
   "outputs": [],
   "source": []
  },
  {
   "cell_type": "code",
   "execution_count": 22,
   "metadata": {},
   "outputs": [
    {
     "data": {
      "text/plain": [
       "[[0, 0, 0, 0], [1, 1, 1, 1], [2, 2, 2, 2], [3, 3, 3, 3]]"
      ]
     },
     "execution_count": 22,
     "metadata": {},
     "output_type": "execute_result"
    }
   ],
   "source": [
    "import numpy as np\n",
    "\n",
    "i = np.ones([1,4])\n",
    "j = np.ones([1,4])\n",
    "k = np.ones([1,4])\n",
    "l = np.ones([1,4])\n",
    "\n",
    "A = [i,j,k,l]\n",
    "\n",
    "A\n",
    "\n",
    "[[i,i,i,i]  for i,e in enumerate(A)]"
   ]
  },
  {
   "cell_type": "code",
   "execution_count": 23,
   "metadata": {},
   "outputs": [
    {
     "data": {
      "text/plain": [
       "array([[[[ 1.,  1.,  1.],\n",
       "         [ 1.,  1.,  1.],\n",
       "         [ 1.,  1.,  1.]],\n",
       "\n",
       "        [[ 1.,  1.,  1.],\n",
       "         [ 1.,  1.,  1.],\n",
       "         [ 1.,  1.,  1.]],\n",
       "\n",
       "        [[ 1.,  1.,  1.],\n",
       "         [ 1.,  1.,  1.],\n",
       "         [ 1.,  1.,  1.]]],\n",
       "\n",
       "\n",
       "       [[[ 1.,  1.,  1.],\n",
       "         [ 1.,  1.,  1.],\n",
       "         [ 1.,  1.,  1.]],\n",
       "\n",
       "        [[ 1.,  1.,  1.],\n",
       "         [ 1.,  1.,  1.],\n",
       "         [ 1.,  1.,  1.]],\n",
       "\n",
       "        [[ 1.,  1.,  1.],\n",
       "         [ 1.,  1.,  1.],\n",
       "         [ 1.,  1.,  1.]]],\n",
       "\n",
       "\n",
       "       [[[ 1.,  1.,  1.],\n",
       "         [ 1.,  1.,  1.],\n",
       "         [ 1.,  1.,  1.]],\n",
       "\n",
       "        [[ 1.,  1.,  1.],\n",
       "         [ 1.,  1.,  1.],\n",
       "         [ 1.,  1.,  1.]],\n",
       "\n",
       "        [[ 1.,  1.,  1.],\n",
       "         [ 1.,  1.,  1.],\n",
       "         [ 1.,  1.,  1.]]]])"
      ]
     },
     "execution_count": 23,
     "metadata": {},
     "output_type": "execute_result"
    }
   ],
   "source": []
  },
  {
   "cell_type": "code",
   "execution_count": null,
   "metadata": {},
   "outputs": [],
   "source": []
  }
 ],
 "metadata": {
  "kernelspec": {
   "display_name": "Python 3",
   "language": "python",
   "name": "python3"
  },
  "language_info": {
   "codemirror_mode": {
    "name": "ipython",
    "version": 3
   },
   "file_extension": ".py",
   "mimetype": "text/x-python",
   "name": "python",
   "nbconvert_exporter": "python",
   "pygments_lexer": "ipython3",
   "version": "3.6.3"
  }
 },
 "nbformat": 4,
 "nbformat_minor": 2
}
